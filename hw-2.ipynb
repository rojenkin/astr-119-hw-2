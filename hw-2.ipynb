{
 "cells": [
  {
   "cell_type": "code",
   "execution_count": null,
   "metadata": {},
   "outputs": [],
   "source": [
    "import numpy as np\n",
    "import matplotlib.pyplot as plt\n",
    "%matplotlib inline"
   ]
  },
  {
   "cell_type": "code",
   "execution_count": null,
   "metadata": {},
   "outputs": [],
   "source": [
    "x = np.linspace (0, 2*np.pi, 1000) "
   ]
  },
  {
   "cell_type": "code",
   "execution_count": null,
   "metadata": {},
   "outputs": [],
   "source": [
    "x[-1] == 2*np.pi"
   ]
  },
  {
   "cell_type": "code",
   "execution_count": null,
   "metadata": {},
   "outputs": [],
   "source": [
    "np.shape(x)"
   ]
  },
  {
   "cell_type": "code",
   "execution_count": null,
   "metadata": {},
   "outputs": [],
   "source": [
    "2*np.pi"
   ]
  },
  {
   "cell_type": "markdown",
   "metadata": {},
   "source": [
    "I am about to plot Homework 2 as follows\n",
    "\n",
    "function y_a is y(x)=5.5cos(2x)+5.5\n",
    "\n",
    "function y_b is y(x)=0.02(e^x)\n",
    "\n",
    "function y_c is y(x)=0.25(x^2)+0.1sin(10x)"
   ]
  },
  {
   "cell_type": "code",
   "execution_count": null,
   "metadata": {},
   "outputs": [],
   "source": [
    "y_a = 5.5*np.cos(2*x) + 5.5                #defining function a as stated above\n",
    "y_b = 0.02 * (np.exp(x))                   #defining function b as stated above\n",
    "y_c = (0.25*(x**2) + (0.1*np.sin(10*x))) #defining function c as stated above"
   ]
  },
  {
   "cell_type": "code",
   "execution_count": null,
   "metadata": {},
   "outputs": [],
   "source": [
    "plt.plot(x, y_a)                      #plot function a\n",
    "plt.plot(x, y_b)                      #plot function b\n",
    "plt.plot(x, y_c)                      #plot function c\n",
    "plt.xlim(0, 2*np.pi)                  #setting x limit\n",
    "plt.ylim(-1, 10)                      #setting y limit\n",
    "plt.xlabel('Time in ASTR / EART 119') #setting x label\n",
    "plt.ylabel('Measures of Awesomeness') #setting y label"
   ]
  }
 ],
 "metadata": {
  "kernelspec": {
   "display_name": "Python 3",
   "language": "python",
   "name": "python3"
  },
  "language_info": {
   "codemirror_mode": {
    "name": "ipython",
    "version": 3
   },
   "file_extension": ".py",
   "mimetype": "text/x-python",
   "name": "python",
   "nbconvert_exporter": "python",
   "pygments_lexer": "ipython3",
   "version": "3.6.5"
  }
 },
 "nbformat": 4,
 "nbformat_minor": 2
}
